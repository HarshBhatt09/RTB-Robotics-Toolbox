{
  "nbformat": 4,
  "nbformat_minor": 0,
  "metadata": {
    "colab": {
      "provenance": []
    },
    "kernelspec": {
      "name": "python3",
      "display_name": "Python 3"
    },
    "language_info": {
      "name": "python"
    }
  },
  "cells": [
    {
      "cell_type": "code",
      "execution_count": null,
      "metadata": {
        "id": "kD07g5CEVSkB",
        "colab": {
          "base_uri": "https://localhost:8080/"
        },
        "outputId": "519f0c9e-c9eb-4a5d-dedd-a2e42d648025"
      },
      "outputs": [
        {
          "output_type": "stream",
          "name": "stdout",
          "text": [
            "Looking in indexes: https://pypi.org/simple, https://us-python.pkg.dev/colab-wheels/public/simple/\n",
            "Collecting roboticstoolbox-python\n",
            "  Downloading roboticstoolbox_python-1.0.2-cp37-cp37m-manylinux_2_5_x86_64.manylinux1_x86_64.manylinux_2_12_x86_64.manylinux2010_x86_64.whl (12.9 MB)\n",
            "\u001b[K     |████████████████████████████████| 12.9 MB 24.2 MB/s \n",
            "\u001b[?25hCollecting rtb-data\n",
            "  Downloading rtb_data-1.0.0-py3-none-any.whl (112.2 MB)\n",
            "\u001b[K     |████████████████████████████████| 112.2 MB 82 kB/s \n",
            "\u001b[?25hRequirement already satisfied: numpy>=1.17.4 in /usr/local/lib/python3.7/dist-packages (from roboticstoolbox-python) (1.21.6)\n",
            "Collecting spatialmath-python~=1.0.0\n",
            "  Downloading spatialmath_python-1.0.0-py3-none-any.whl (178 kB)\n",
            "\u001b[K     |████████████████████████████████| 178 kB 54.2 MB/s \n",
            "\u001b[?25hRequirement already satisfied: matplotlib in /usr/local/lib/python3.7/dist-packages (from roboticstoolbox-python) (3.2.2)\n",
            "Requirement already satisfied: scipy in /usr/local/lib/python3.7/dist-packages (from roboticstoolbox-python) (1.7.3)\n",
            "Collecting pgraph-python\n",
            "  Downloading pgraph-python-0.6.1.tar.gz (16 kB)\n",
            "Collecting swift-sim~=1.0.0\n",
            "  Downloading swift_sim-1.0.0-cp37-cp37m-manylinux_2_5_x86_64.manylinux1_x86_64.manylinux_2_12_x86_64.manylinux2010_x86_64.whl (13.5 MB)\n",
            "\u001b[K     |████████████████████████████████| 13.5 MB 50.4 MB/s \n",
            "\u001b[?25hCollecting progress\n",
            "  Downloading progress-1.6.tar.gz (7.8 kB)\n",
            "Collecting spatialgeometry~=1.0.0\n",
            "  Downloading spatialgeometry-1.0.1-cp37-cp37m-manylinux_2_5_x86_64.manylinux1_x86_64.manylinux_2_12_x86_64.manylinux2010_x86_64.whl (1.5 MB)\n",
            "\u001b[K     |████████████████████████████████| 1.5 MB 44.8 MB/s \n",
            "\u001b[?25hCollecting ansitable\n",
            "  Downloading ansitable-0.9.6.tar.gz (17 kB)\n",
            "Collecting colored\n",
            "  Downloading colored-1.4.3.tar.gz (29 kB)\n",
            "Collecting websockets\n",
            "  Downloading websockets-10.3-cp37-cp37m-manylinux_2_5_x86_64.manylinux1_x86_64.manylinux_2_12_x86_64.manylinux2010_x86_64.whl (112 kB)\n",
            "\u001b[K     |████████████████████████████████| 112 kB 45.9 MB/s \n",
            "\u001b[?25hRequirement already satisfied: pyparsing!=2.0.4,!=2.1.2,!=2.1.6,>=2.0.1 in /usr/local/lib/python3.7/dist-packages (from matplotlib->roboticstoolbox-python) (3.0.9)\n",
            "Requirement already satisfied: kiwisolver>=1.0.1 in /usr/local/lib/python3.7/dist-packages (from matplotlib->roboticstoolbox-python) (1.4.4)\n",
            "Requirement already satisfied: cycler>=0.10 in /usr/local/lib/python3.7/dist-packages (from matplotlib->roboticstoolbox-python) (0.11.0)\n",
            "Requirement already satisfied: python-dateutil>=2.1 in /usr/local/lib/python3.7/dist-packages (from matplotlib->roboticstoolbox-python) (2.8.2)\n",
            "Requirement already satisfied: typing-extensions in /usr/local/lib/python3.7/dist-packages (from kiwisolver>=1.0.1->matplotlib->roboticstoolbox-python) (4.1.1)\n",
            "Requirement already satisfied: six>=1.5 in /usr/local/lib/python3.7/dist-packages (from python-dateutil>=2.1->matplotlib->roboticstoolbox-python) (1.15.0)\n",
            "Building wheels for collected packages: ansitable, colored, pgraph-python, progress\n",
            "  Building wheel for ansitable (setup.py) ... \u001b[?25l\u001b[?25hdone\n",
            "  Created wheel for ansitable: filename=ansitable-0.9.6-py3-none-any.whl size=12621 sha256=55bc659703a78b2ac28875f61fed9158795917ed0f2b553441c05fee64c5b68a\n",
            "  Stored in directory: /root/.cache/pip/wheels/57/a4/a9/84ed983596f261a978c880aba60eba145e76aa5a59e455f189\n",
            "  Building wheel for colored (setup.py) ... \u001b[?25l\u001b[?25hdone\n",
            "  Created wheel for colored: filename=colored-1.4.3-py3-none-any.whl size=14342 sha256=96a8a748da29f55be8b66c8212bd9bd59f5aa94a8d1b87b920060405ba85bd92\n",
            "  Stored in directory: /root/.cache/pip/wheels/4a/f6/00/835e81851bc345428a253721c8bdad0062721dfb861bc6e752\n",
            "  Building wheel for pgraph-python (setup.py) ... \u001b[?25l\u001b[?25hdone\n",
            "  Created wheel for pgraph-python: filename=pgraph_python-0.6.1-py3-none-any.whl size=11482 sha256=10ca2a0ff7afc7cc90b1d5c90fd04c813095b8c2b32d5e2da3fe672e2cf94ead\n",
            "  Stored in directory: /root/.cache/pip/wheels/0c/96/4a/6802f53d94902fa9431fe1d0ca769f5da8faee8894188c1fd5\n",
            "  Building wheel for progress (setup.py) ... \u001b[?25l\u001b[?25hdone\n",
            "  Created wheel for progress: filename=progress-1.6-py3-none-any.whl size=9632 sha256=11ff5aa26978196c26e0ce660f9fbbb904855d7a348098f01f829d257478cd75\n",
            "  Stored in directory: /root/.cache/pip/wheels/8e/d7/61/498d8e27dc11e9805b01eb3539e2ee344436fc226daeb5fe87\n",
            "Successfully built ansitable colored pgraph-python progress\n",
            "Installing collected packages: colored, ansitable, spatialmath-python, websockets, spatialgeometry, swift-sim, rtb-data, progress, pgraph-python, roboticstoolbox-python\n",
            "Successfully installed ansitable-0.9.6 colored-1.4.3 pgraph-python-0.6.1 progress-1.6 roboticstoolbox-python-1.0.2 rtb-data-1.0.0 spatialgeometry-1.0.1 spatialmath-python-1.0.0 swift-sim-1.0.0 websockets-10.3\n"
          ]
        }
      ],
      "source": [
        "!pip3 install roboticstoolbox-python"
      ]
    },
    {
      "cell_type": "code",
      "source": [
        "import math\n",
        "from spatialmath.base import *\n",
        "from spatialmath import SE3\n",
        "import spatialmath.base.symbolic as sym\n",
        "import numpy as np"
      ],
      "metadata": {
        "id": "6nqlpmbQVgFW"
      },
      "execution_count": null,
      "outputs": []
    },
    {
      "cell_type": "code",
      "source": [
        "import roboticstoolbox as rtb"
      ],
      "metadata": {
        "id": "ilH8jFK0lSpW"
      },
      "execution_count": null,
      "outputs": []
    },
    {
      "cell_type": "code",
      "source": [
        "panda = rtb.models.URDF.Panda()\n",
        "print(panda)\n",
        "T = panda.fkine(panda.qz, end='panda_hand')\n",
        "print(T)"
      ],
      "metadata": {
        "id": "6XmhBFmAVhNv",
        "colab": {
          "base_uri": "https://localhost:8080/"
        },
        "outputId": "59b52093-7b3c-4b01-82c1-4ce587c68f57"
      },
      "execution_count": null,
      "outputs": [
        {
          "output_type": "stream",
          "name": "stdout",
          "text": [
            "ERobot: panda (by Franka Emika), 7 joints (RRRRRRR), 1 gripper, geometry, collision\n",
            "┌─────┬──────────────┬───────┬─────────────┬────────────────────────────────────────────────┐\n",
            "│link │     link     │ joint │   parent    │              ETS: parent to link               │\n",
            "├─────┼──────────────┼───────┼─────────────┼────────────────────────────────────────────────┤\n",
            "│   0 │ panda_link0  │       │ BASE        │                                                │\n",
            "│   1 │ panda_link1  │     0 │ panda_link0 │ SE3(0, 0, 0.333) ⊕ Rz(q0)                      │\n",
            "│   2 │ panda_link2  │     1 │ panda_link1 │ SE3(-90°, -0°, 0°) ⊕ Rz(q1)                    │\n",
            "│   3 │ panda_link3  │     2 │ panda_link2 │ SE3(0, -0.316, 0; 90°, -0°, 0°) ⊕ Rz(q2)       │\n",
            "│   4 │ panda_link4  │     3 │ panda_link3 │ SE3(0.0825, 0, 0; 90°, -0°, 0°) ⊕ Rz(q3)       │\n",
            "│   5 │ panda_link5  │     4 │ panda_link4 │ SE3(-0.0825, 0.384, 0; -90°, -0°, 0°) ⊕ Rz(q4) │\n",
            "│   6 │ panda_link6  │     5 │ panda_link5 │ SE3(90°, -0°, 0°) ⊕ Rz(q5)                     │\n",
            "│   7 │ panda_link7  │     6 │ panda_link6 │ SE3(0.088, 0, 0; 90°, -0°, 0°) ⊕ Rz(q6)        │\n",
            "│   8 │ @panda_link8 │       │ panda_link7 │ SE3(0, 0, 0.107)                               │\n",
            "└─────┴──────────────┴───────┴─────────────┴────────────────────────────────────────────────┘\n",
            "\n",
            "┌─────┬─────┬────────┬─────┬───────┬─────┬───────┬──────┐\n",
            "│name │ q0  │ q1     │ q2  │ q3    │ q4  │ q5    │ q6   │\n",
            "├─────┼─────┼────────┼─────┼───────┼─────┼───────┼──────┤\n",
            "│  qr │  0° │ -17.2° │  0° │ -126° │  0° │  115° │  45° │\n",
            "│  qz │  0° │  0°    │  0° │  0°   │  0° │  0°   │  0°  │\n",
            "└─────┴─────┴────────┴─────┴───────┴─────┴───────┴──────┘\n",
            "\n",
            "   0.7071    0.7071    0         0.088     \n",
            "   0.7071   -0.7071    0         0         \n",
            "   0         0        -1         0.926     \n",
            "   0         0         0         1         \n",
            "\n"
          ]
        }
      ]
    },
    {
      "cell_type": "code",
      "source": [
        "point = SE3(0.6, -0.5, 0.0)\n",
        "point_sol = panda.ikine_LM(point)\n",
        "print(\"\\nInverse Kinematics Solution :\\n\" ,point_sol)"
      ],
      "metadata": {
        "id": "DDnOS5saVhWH",
        "colab": {
          "base_uri": "https://localhost:8080/"
        },
        "outputId": "3e7c8236-3f67-4fb9-f9c4-fecea275a1b3"
      },
      "execution_count": null,
      "outputs": [
        {
          "output_type": "stream",
          "name": "stdout",
          "text": [
            "\n",
            "Inverse Kinematics Solution :\n",
            " IKsolution(q=array([-0.68234088,  1.88638378,  0.04273101,  0.28675208, -0.05289554,\n",
            "        1.47400329, -0.59504643]), success=False, reason='rejected-step limit 100 exceeded', iterations=105, residual=0.11814947017141436)\n"
          ]
        }
      ]
    },
    {
      "cell_type": "code",
      "source": [
        "## Creating Robotic arm through defining links and Serial Linkage\n",
        "Link_1=rtb.DHLink(0.5, math.pi/2, 0, 0)\n",
        "Link_2=rtb.DHLink(0,    0,   0, 0.4)\n",
        "Link_3=rtb.DHLink(0,    0,   0, 0.4)\n",
        "h2_panda_robot= rtb.DHRobot([Link_1 ,Link_2,Link_3])\n",
        "h2_panda_robot"
      ],
      "metadata": {
        "id": "JUvVOVZQWSaD",
        "colab": {
          "base_uri": "https://localhost:8080/"
        },
        "outputId": "d698f6b3-a741-452c-8b8d-a14a6765e97a"
      },
      "execution_count": null,
      "outputs": [
        {
          "output_type": "execute_result",
          "data": {
            "text/plain": [
              "DHRobot: noname, 3 joints (RRR), dynamics, standard DH parameters\n",
              "┌────┬─────┬─────┬───────┐\n",
              "│θⱼ  │ dⱼ  │ aⱼ  │  ⍺ⱼ   │\n",
              "├────┼─────┼─────┼───────┤\n",
              "│ q1 │ 0.5 │   0 │ 90.0° │\n",
              "│ q2 │   0 │ 0.4 │  0.0° │\n",
              "│ q3 │   0 │ 0.4 │  0.0° │\n",
              "└────┴─────┴─────┴───────┘\n",
              "\n",
              "┌─┬──┐\n",
              "└─┴──┘"
            ]
          },
          "metadata": {},
          "execution_count": 11
        }
      ]
    },
    {
      "cell_type": "code",
      "source": [
        "##Forward Kinematics\n",
        "\n",
        "q1=50\n",
        "q2=30\n",
        "q3=0\n",
        "\n",
        "T=h2_panda_robot.fkine([math.radians(q1),math.radians(q2),math.radians(q3)])\n",
        "\n",
        "print(\"Transformation Matrix :\\n\",T)"
      ],
      "metadata": {
        "id": "-8fmbs9LWSiJ",
        "colab": {
          "base_uri": "https://localhost:8080/"
        },
        "outputId": "50ae4c5b-f9df-4746-d1fd-5ed7c03622ca"
      },
      "execution_count": null,
      "outputs": [
        {
          "output_type": "stream",
          "name": "stdout",
          "text": [
            "Transformation Matrix :\n",
            "    0.5567   -0.3214    0.766     0.4453    \n",
            "   0.6634   -0.383    -0.6428    0.5307    \n",
            "   0.5       0.866     0         0.9       \n",
            "   0         0         0         1         \n",
            "\n"
          ]
        }
      ]
    },
    {
      "cell_type": "code",
      "source": [
        "# Selection a point to get inverse kinematics solution as angles\n",
        "print(\"point-> x: %2.2f ,y: %2.2f ,z: %2.2f\" %(1.5,2.5,2.3) )\n",
        "point = SE3( 0.4453 , 0.5307 , 0.9  )\n",
        "point_sol = h2_panda_robot.ikine_LM(point)\n",
        "print(point_sol)"
      ],
      "metadata": {
        "id": "_miCp25GWSmp",
        "colab": {
          "base_uri": "https://localhost:8080/"
        },
        "outputId": "8dd60583-a61f-43d3-f35a-1fe589c9af1a"
      },
      "execution_count": null,
      "outputs": [
        {
          "output_type": "stream",
          "name": "stdout",
          "text": [
            "point-> x: 1.50 ,y: 2.50 ,z: 2.30\n",
            "IKsolution(q=array([ 0.59415051,  1.0801696 , -1.47551611]), success=False, reason='rejected-step limit 100 exceeded', iterations=113, residual=1.0432837034383884)\n"
          ]
        }
      ]
    },
    {
      "cell_type": "code",
      "source": [
        "L = sym.symbol('l_1:4') # Symbolics for links\n",
        "print(\"symblic Links : \",L)\n",
        "Link_1=rtb.DHLink(L[0], math.pi/2, 0, 0)\n",
        "Link_2=rtb.DHLink(0,    0,   0, L[1])\n",
        "Link_3=rtb.DHLink(0,    0,   0, L[2])\n",
        "Kaka_robot_symbolic= rtb.DHRobot([Link_1 ,Link_2,Link_3])"
      ],
      "metadata": {
        "id": "gCAVpIKuWSrO",
        "colab": {
          "base_uri": "https://localhost:8080/"
        },
        "outputId": "fc1c0d3d-9d2c-4544-b61f-0c2472874765"
      },
      "execution_count": null,
      "outputs": [
        {
          "output_type": "stream",
          "name": "stdout",
          "text": [
            "symblic Links :  (l_1, l_2, l_3)\n"
          ]
        }
      ]
    },
    {
      "cell_type": "code",
      "source": [
        "Q= sym.symbol('q1:4')   # Symbolics for rotations angles\n",
        "print(\"symblic Angles : \",Q)"
      ],
      "metadata": {
        "id": "Q-VOWGQ_WSuZ",
        "colab": {
          "base_uri": "https://localhost:8080/"
        },
        "outputId": "3ea4a360-cc81-4acd-894c-8bde017ecb8c"
      },
      "execution_count": null,
      "outputs": [
        {
          "output_type": "stream",
          "name": "stdout",
          "text": [
            "symblic Angles :  (q1, q2, q3)\n"
          ]
        }
      ]
    },
    {
      "cell_type": "code",
      "source": [
        "point = SE3(0.6, -0.5, 0.0)\n",
        "# point_sol = puma.ikine_LM(point)\n",
        "T_symbolic=Kaka_robot_symbolic.fkine(Q)\n",
        "T_symbolic"
      ],
      "metadata": {
        "id": "WmnDF9iyWSx8",
        "colab": {
          "base_uri": "https://localhost:8080/"
        },
        "outputId": "0f5c6b02-65aa-4313-9fbb-047b32660c1a"
      },
      "execution_count": null,
      "outputs": [
        {
          "output_type": "execute_result",
          "data": {
            "text/plain": [
              "  (-6.12323399573677e-17*sin(q1)*sin(q2) + cos(q1)*cos(q2))*cos(q3) + (-6.12323399573677e-17*sin(q1)*cos(q2) - 1.0*sin(q2)*cos(q1))*sin(q3) -1.0*(-6.12323399573677e-17*sin(q1)*sin(q2) + cos(q1)*cos(q2))*sin(q3) + 1.0*(-6.12323399573677e-17*sin(q1)*cos(q2) - 1.0*sin(q2)*cos(q1))*cos(q3) 1.0*sin(q1)  -6.12323399573677e-17*l_2*sin(q1)*sin(q2) + l_2*cos(q1)*cos(q2) + l_3*(-6.12323399573677e-17*sin(q1)*sin(q2) + cos(q1)*cos(q2))*cos(q3) + l_3*(-6.12323399573677e-17*sin(q1)*cos(q2) - 1.0*sin(q2)*cos(q1))*sin(q3)  \n",
              "  (-1.0*sin(q1)*sin(q2) + 6.12323399573677e-17*cos(q1)*cos(q2))*sin(q3) + (sin(q1)*cos(q2) + 6.12323399573677e-17*sin(q2)*cos(q1))*cos(q3) 1.0*(-1.0*sin(q1)*sin(q2) + 6.12323399573677e-17*cos(q1)*cos(q2))*cos(q3) - 1.0*(sin(q1)*cos(q2) + 6.12323399573677e-17*sin(q2)*cos(q1))*sin(q3) -1.0*cos(q1) l_2*sin(q1)*cos(q2) + 6.12323399573677e-17*l_2*sin(q2)*cos(q1) + l_3*(-1.0*sin(q1)*sin(q2) + 6.12323399573677e-17*cos(q1)*cos(q2))*sin(q3) + l_3*(sin(q1)*cos(q2) + 6.12323399573677e-17*sin(q2)*cos(q1))*cos(q3)  \n",
              "  1.0*sin(q2)*cos(q3) + 1.0*sin(q3)*cos(q2) -1.0*sin(q2)*sin(q3) + 1.0*cos(q2)*cos(q3) 6.12323399573677e-17 l_1 + 1.0*l_2*sin(q2) + 1.0*l_3*sin(q2)*cos(q3) + 1.0*l_3*sin(q3)*cos(q2)  \n",
              "  0            0            0            1             \n"
            ]
          },
          "metadata": {},
          "execution_count": 16
        }
      ]
    },
    {
      "cell_type": "code",
      "source": [
        "Ts_symbolic = T_symbolic.simplify()\n",
        "M = np.matrix(Ts_symbolic.A)\n",
        "M"
      ],
      "metadata": {
        "id": "Ea_Y3rGDWS1L",
        "colab": {
          "base_uri": "https://localhost:8080/"
        },
        "outputId": "7d5b9f2b-ca2d-407c-e875-f4f2df23d0c0"
      },
      "execution_count": null,
      "outputs": [
        {
          "output_type": "execute_result",
          "data": {
            "text/plain": [
              "matrix([[1.0*cos(q1)*cos(q2 + q3), -1.0*sin(q2 + q3)*cos(q1),\n",
              "         1.0*sin(q1),\n",
              "         -6.12323399573677e-17*l_2*sin(q1)*sin(q2) + 1.0*l_2*cos(q1)*cos(q2) + 1.0*l_3*cos(q1)*cos(q2 + q3)],\n",
              "        [1.0*sin(q1)*cos(q2 + q3), -1.0*sin(q1)*sin(q2 + q3),\n",
              "         -1.0*cos(q1),\n",
              "         1.0*l_2*sin(q1)*cos(q2) + 6.12323399573677e-17*l_2*sin(q2)*cos(q1) + 1.0*l_3*sin(q1)*cos(q2 + q3)],\n",
              "        [1.0*sin(q2 + q3), 1.0*cos(q2 + q3), 6.12323399573677e-17,\n",
              "         1.0*l_1 + 1.0*l_2*sin(q2) + 1.0*l_3*sin(q2 + q3)],\n",
              "        [0, 0, 0, 1]], dtype=object)"
            ]
          },
          "metadata": {},
          "execution_count": 20
        }
      ]
    },
    {
      "cell_type": "code",
      "source": [
        "M[:3,3] # extracting translation part"
      ],
      "metadata": {
        "id": "dvMmq9-iWS4c",
        "colab": {
          "base_uri": "https://localhost:8080/"
        },
        "outputId": "53954ae9-bac6-4548-9e7e-2ce6a15e8d5e"
      },
      "execution_count": null,
      "outputs": [
        {
          "output_type": "execute_result",
          "data": {
            "text/plain": [
              "matrix([[-6.12323399573677e-17*l_2*sin(q1)*sin(q2) + 1.0*l_2*cos(q1)*cos(q2) + 1.0*l_3*cos(q1)*cos(q2 + q3)],\n",
              "        [1.0*l_2*sin(q1)*cos(q2) + 6.12323399573677e-17*l_2*sin(q2)*cos(q1) + 1.0*l_3*sin(q1)*cos(q2 + q3)],\n",
              "        [1.0*l_1 + 1.0*l_2*sin(q2) + 1.0*l_3*sin(q2 + q3)]], dtype=object)"
            ]
          },
          "metadata": {},
          "execution_count": 21
        }
      ]
    },
    {
      "cell_type": "code",
      "source": [
        "T=Kaka_robot.fkine([40,30,10])  # NON symbolic\n",
        "T"
      ],
      "metadata": {
        "id": "ewUqCXHRWS7X",
        "colab": {
          "base_uri": "https://localhost:8080/",
          "height": 183
        },
        "outputId": "1ce3e351-9cfd-4aab-b817-b0d6f6b9032c"
      },
      "execution_count": null,
      "outputs": [
        {
          "output_type": "error",
          "ename": "NameError",
          "evalue": "ignored",
          "traceback": [
            "\u001b[0;31m---------------------------------------------------------------------------\u001b[0m",
            "\u001b[0;31mNameError\u001b[0m                                 Traceback (most recent call last)",
            "\u001b[0;32m<ipython-input-22-cb874a12cd10>\u001b[0m in \u001b[0;36m<module>\u001b[0;34m\u001b[0m\n\u001b[0;32m----> 1\u001b[0;31m \u001b[0mT\u001b[0m\u001b[0;34m=\u001b[0m\u001b[0mKaka_robot\u001b[0m\u001b[0;34m.\u001b[0m\u001b[0mfkine\u001b[0m\u001b[0;34m(\u001b[0m\u001b[0;34m[\u001b[0m\u001b[0;36m40\u001b[0m\u001b[0;34m,\u001b[0m\u001b[0;36m30\u001b[0m\u001b[0;34m,\u001b[0m\u001b[0;36m10\u001b[0m\u001b[0;34m]\u001b[0m\u001b[0;34m)\u001b[0m  \u001b[0;31m# NON symbolic\u001b[0m\u001b[0;34m\u001b[0m\u001b[0;34m\u001b[0m\u001b[0m\n\u001b[0m\u001b[1;32m      2\u001b[0m \u001b[0mT\u001b[0m\u001b[0;34m\u001b[0m\u001b[0;34m\u001b[0m\u001b[0m\n",
            "\u001b[0;31mNameError\u001b[0m: name 'Kaka_robot' is not defined"
          ]
        }
      ]
    },
    {
      "cell_type": "code",
      "source": [
        "import roboticstoolbox as rtb\n",
        "robot = rtb.models.DH.Panda()\n",
        "print(robot)\n",
        "T = robot.fkine(robot.qz)  # forward kinematics\n",
        "print(T)"
      ],
      "metadata": {
        "id": "IiI4L_AUWS-q",
        "colab": {
          "base_uri": "https://localhost:8080/"
        },
        "outputId": "7d46ea8d-8a4c-435d-fb83-4b51c02748ef"
      },
      "execution_count": null,
      "outputs": [
        {
          "output_type": "stream",
          "name": "stdout",
          "text": [
            "DHRobot: Panda (by Franka Emika), 7 joints (RRRRRRR), dynamics, geometry, modified DH parameters\n",
            "┌────────┬────────┬─────┬───────┬─────────┬────────┐\n",
            "│ aⱼ₋₁   │  ⍺ⱼ₋₁  │ θⱼ  │  dⱼ   │   q⁻    │   q⁺   │\n",
            "├────────┼────────┼─────┼───────┼─────────┼────────┤\n",
            "│    0.0 │   0.0° │  q1 │ 0.333 │ -166.0° │ 166.0° │\n",
            "│    0.0 │ -90.0° │  q2 │   0.0 │ -101.0° │ 101.0° │\n",
            "│    0.0 │  90.0° │  q3 │ 0.316 │ -166.0° │ 166.0° │\n",
            "│ 0.0825 │  90.0° │  q4 │   0.0 │ -176.0° │  -4.0° │\n",
            "│-0.0825 │ -90.0° │  q5 │ 0.384 │ -166.0° │ 166.0° │\n",
            "│    0.0 │  90.0° │  q6 │   0.0 │   -1.0° │ 215.0° │\n",
            "│  0.088 │  90.0° │  q7 │ 0.107 │ -166.0° │ 166.0° │\n",
            "└────────┴────────┴─────┴───────┴─────────┴────────┘\n",
            "\n",
            "┌─────┬──────┐\n",
            "│tool │ None │\n",
            "└─────┴──────┘\n",
            "\n",
            "┌─────┬─────┬────────┬─────┬───────┬─────┬───────┬──────┐\n",
            "│name │ q0  │ q1     │ q2  │ q3    │ q4  │ q5    │ q6   │\n",
            "├─────┼─────┼────────┼─────┼───────┼─────┼───────┼──────┤\n",
            "│  qr │  0° │ -17.2° │  0° │ -126° │  0° │  115° │  45° │\n",
            "│  qz │  0° │  0°    │  0° │  0°   │  0° │  0°   │  0°  │\n",
            "└─────┴─────┴────────┴─────┴───────┴─────┴───────┴──────┘\n",
            "\n",
            "   0.7071    0.7071    0         0.088     \n",
            "   0.7071   -0.7071    0         0         \n",
            "   0         0        -1         0.823     \n",
            "   0         0         0         1         \n",
            "\n"
          ]
        }
      ]
    },
    {
      "cell_type": "code",
      "source": [
        "from spatialmath import SE3\n",
        "\n",
        "T = SE3(0.7, 0.2, 0.1) * SE3.OA([0, 1, 0], [0, 0, -1])\n",
        "sol = robot.ikine_LM(T)         # solve IK\n",
        "print(sol)\n",
        "q_pickup = sol.q\n",
        "print(robot.fkine(q_pickup))"
      ],
      "metadata": {
        "id": "uIMNXTvoWTBc",
        "colab": {
          "base_uri": "https://localhost:8080/"
        },
        "outputId": "af841480-93dd-450e-ee75-ffaf6fcaee0f"
      },
      "execution_count": null,
      "outputs": [
        {
          "output_type": "stream",
          "name": "stdout",
          "text": [
            "IKsolution(q=array([ 0.21343385,  1.8669104 , -0.22639717,  0.48252627,  0.2197902 ,\n",
            "        1.3958973 , -2.03679145]), success=True, reason=None, iterations=12, residual=1.4517611973679024e-11)\n",
            "  -1         9.436e-14  2.439e-12  0.7       \n",
            "   9.445e-14  1         7.257e-13  0.2       \n",
            "  -2.439e-12  7.257e-13 -1         0.1       \n",
            "   0         0         0         1         \n",
            "\n"
          ]
        }
      ]
    },
    {
      "cell_type": "code",
      "source": [
        "from math import pi"
      ],
      "metadata": {
        "id": "2aVu75QvBn3q"
      },
      "execution_count": null,
      "outputs": []
    },
    {
      "cell_type": "code",
      "source": [
        "theta = np.array([0., 0., -0.25 * pi, 0., 0., 0.])\n",
        "f = robot.forward(theta)"
      ],
      "metadata": {
        "id": "robOfyfqWTEM",
        "colab": {
          "base_uri": "https://localhost:8080/",
          "height": 183
        },
        "outputId": "1f2ce610-3a1f-415b-add7-150fbca13fc1"
      },
      "execution_count": null,
      "outputs": [
        {
          "output_type": "error",
          "ename": "AttributeError",
          "evalue": "ignored",
          "traceback": [
            "\u001b[0;31m---------------------------------------------------------------------------\u001b[0m",
            "\u001b[0;31mAttributeError\u001b[0m                            Traceback (most recent call last)",
            "\u001b[0;32m<ipython-input-27-8971ed8434f8>\u001b[0m in \u001b[0;36m<module>\u001b[0;34m\u001b[0m\n\u001b[1;32m      1\u001b[0m \u001b[0mtheta\u001b[0m \u001b[0;34m=\u001b[0m \u001b[0mnp\u001b[0m\u001b[0;34m.\u001b[0m\u001b[0marray\u001b[0m\u001b[0;34m(\u001b[0m\u001b[0;34m[\u001b[0m\u001b[0;36m0.\u001b[0m\u001b[0;34m,\u001b[0m \u001b[0;36m0.\u001b[0m\u001b[0;34m,\u001b[0m \u001b[0;34m-\u001b[0m\u001b[0;36m0.25\u001b[0m \u001b[0;34m*\u001b[0m \u001b[0mpi\u001b[0m\u001b[0;34m,\u001b[0m \u001b[0;36m0.\u001b[0m\u001b[0;34m,\u001b[0m \u001b[0;36m0.\u001b[0m\u001b[0;34m,\u001b[0m \u001b[0;36m0.\u001b[0m\u001b[0;34m]\u001b[0m\u001b[0;34m)\u001b[0m\u001b[0;34m\u001b[0m\u001b[0;34m\u001b[0m\u001b[0m\n\u001b[0;32m----> 2\u001b[0;31m \u001b[0mf\u001b[0m \u001b[0;34m=\u001b[0m \u001b[0mrobot\u001b[0m\u001b[0;34m.\u001b[0m\u001b[0mforward\u001b[0m\u001b[0;34m(\u001b[0m\u001b[0mtheta\u001b[0m\u001b[0;34m)\u001b[0m\u001b[0;34m\u001b[0m\u001b[0;34m\u001b[0m\u001b[0m\n\u001b[0m",
            "\u001b[0;31mAttributeError\u001b[0m: 'Panda' object has no attribute 'forward'"
          ]
        }
      ]
    },
    {
      "cell_type": "code",
      "source": [
        "!pip3 install Swift"
      ],
      "metadata": {
        "id": "NjDyrj5lWoXF"
      },
      "execution_count": null,
      "outputs": []
    },
    {
      "cell_type": "code",
      "source": [
        "print(\"-------forward-------\")\n",
        "print(\"end frame t_4_4:\")\n",
        "print(f.t_4_4)\n",
        "print(\"end frame xyz:\")\n",
        "print(f.t_3_1.reshape([3, ]))\n",
        "print(\"end frame abc:\")\n",
        "print(f.euler_3)\n",
        "print(\"end frame rotational matrix:\")\n",
        "print(f.r_3_3)\n",
        "print(\"end frame quaternion:\")\n",
        "print(f.q_4)\n",
        "print(\"end frame angle-axis:\")\n",
        "print(f.r_3)"
      ],
      "metadata": {
        "id": "ND1l_m_tWoam"
      },
      "execution_count": null,
      "outputs": []
    },
    {
      "cell_type": "code",
      "source": [
        "robot.show()"
      ],
      "metadata": {
        "id": "gKgvcSZUWod8"
      },
      "execution_count": null,
      "outputs": []
    },
    {
      "cell_type": "code",
      "source": [
        "xyz = np.array([[0.28127], [0.], [1.13182]])\n",
        "abc = np.array([0.5 * pi, 0., pi])\n",
        "end = Frame.from_euler_3(abc, xyz)\n",
        "robot.inverse(end)\n",
        "print(\"inverse is successful: {0}\".format(robot.is_reachable_inverse))\n",
        "print(\"axis values: \\n{0}\".format(robot.axis_values))\n",
        "robot.show()"
      ],
      "metadata": {
        "id": "fNPslZK8Wog1"
      },
      "execution_count": null,
      "outputs": []
    },
    {
      "cell_type": "code",
      "source": [
        "print(\"inverse is successful: {0}\".format(robot.is_reachable_inverse))\n",
        "print(\"axis values: \\n{0}\".format(robot.axis_values))\n",
        "robot.show()"
      ],
      "metadata": {
        "id": "Ew2Q7-iPWo0k"
      },
      "execution_count": null,
      "outputs": []
    },
    {
      "cell_type": "code",
      "source": [],
      "metadata": {
        "id": "uYyoHwJbWo3n"
      },
      "execution_count": null,
      "outputs": []
    },
    {
      "cell_type": "code",
      "source": [],
      "metadata": {
        "id": "Vu0rJZ4iWo6t"
      },
      "execution_count": null,
      "outputs": []
    },
    {
      "cell_type": "code",
      "source": [],
      "metadata": {
        "id": "R1xMh7QNVhY8"
      },
      "execution_count": null,
      "outputs": []
    }
  ]
}